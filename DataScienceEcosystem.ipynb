{
 "cells": [
  {
   "cell_type": "markdown",
   "id": "90392a93",
   "metadata": {},
   "source": [
    " Data Science Tools and Ecosystem "
   ]
  },
  {
   "cell_type": "markdown",
   "id": "00e8be81",
   "metadata": {},
   "source": [
    "**Objective**\n",
    "*we covered the popular langauges and some commonly used libraries used by data scientist \n",
    "also performed the different arthemetics expression*"
   ]
  },
  {
   "cell_type": "markdown",
   "id": "8ceb5e1c",
   "metadata": {},
   "source": [
    "In this notebook, Data Science Tools and Ecosystem are summarized."
   ]
  },
  {
   "cell_type": "markdown",
   "id": "28d99401",
   "metadata": {},
   "source": [
    "Some of the popular languages that Data Scientists use are:\n",
    "1) PYTHON\n",
    "2) R\n",
    "3) SQL"
   ]
  },
  {
   "cell_type": "markdown",
   "id": "537fa8ff",
   "metadata": {},
   "source": [
    "Some of the commonly used libraries used by Data Scientists include:\n",
    "1) Pandas\n",
    "2) NumPy\n",
    "3) Matplotlib\n",
    "4) Seaborn\n",
    "5) Scikit-learn\n",
    "6) TensorFlow\n",
    "7) Keras\n",
    "8) PyTorch"
   ]
  },
  {
   "cell_type": "markdown",
   "id": "bd73a450",
   "metadata": {},
   "source": [
    "### DATA SCIENCE TOOLS ###"
   ]
  },
  {
   "cell_type": "markdown",
   "id": "ac5df23e",
   "metadata": {},
   "source": [
    "1) Jupyter Notebooks\n",
    "2) RStudio\n",
    "3) PyCharm\n",
    "4) Visual Studio Code\n",
    "5) Anaconda\n",
    "6) Google Colab\n",
    "7) Tableau\n",
    "8) SAS\n",
    "9) Excel (for basic data analysis)\n",
    "10) Apache Spark"
   ]
  },
  {
   "cell_type": "markdown",
   "id": "d3e4f0bb",
   "metadata": {},
   "source": [
    "### Introducing arithmetic expression examples ###"
   ]
  },
  {
   "cell_type": "code",
   "execution_count": 2,
   "id": "dbff38f6",
   "metadata": {},
   "outputs": [
    {
     "data": {
      "text/plain": [
       "17"
      ]
     },
     "execution_count": 2,
     "metadata": {},
     "output_type": "execute_result"
    }
   ],
   "source": [
    "(3*4)+5\n",
    "#This a simple arithmetic expression to mutiply then add integers."
   ]
  },
  {
   "cell_type": "code",
   "execution_count": 4,
   "id": "c6a0fc17",
   "metadata": {},
   "outputs": [
    {
     "data": {
      "text/plain": [
       "3.3333333333333335"
      ]
     },
     "execution_count": 4,
     "metadata": {},
     "output_type": "execute_result"
    }
   ],
   "source": [
    "#This will convert 200 minutes to hours by diving by 60.\n",
    "200/60"
   ]
  },
  {
   "cell_type": "code",
   "execution_count": 5,
   "id": "87059f66",
   "metadata": {},
   "outputs": [],
   "source": [
    "#It means 3.33 hours"
   ]
  },
  {
   "cell_type": "markdown",
   "id": "0e35545d",
   "metadata": {},
   "source": [
    "Below the introduction cell created in Exercise 3, insert a new markdown cell to list the objectives that this notebook covered (i.e. some of the key takeaways from the course). In this new cell start with an introductory line titled: Objectives: in bold font. Then using an unordered list (bullets) indicate 3 to 5 items covered in this notebook, such as List popular languages for Data Science.\n",
    "Take a screenshot of the markdown cell and name it as 10-objectives.png (Images can be saved with either the .jpg or .png extension."
   ]
  },
  {
   "cell_type": "markdown",
   "id": "e2e3d3fa",
   "metadata": {},
   "source": [
    "### Author ###\n",
    "Lakshmi Holla\n",
    "\n",
    "Niveditha Pandith\n",
    "\n",
    "Other contributor(s)\n",
    "Rav Ahuja\n",
    "\n",
    "Malika Singla"
   ]
  },
  {
   "cell_type": "code",
   "execution_count": null,
   "id": "87e4e97c",
   "metadata": {},
   "outputs": [],
   "source": []
  }
 ],
 "metadata": {
  "kernelspec": {
   "display_name": "Python 3 (ipykernel)",
   "language": "python",
   "name": "python3"
  },
  "language_info": {
   "codemirror_mode": {
    "name": "ipython",
    "version": 3
   },
   "file_extension": ".py",
   "mimetype": "text/x-python",
   "name": "python",
   "nbconvert_exporter": "python",
   "pygments_lexer": "ipython3",
   "version": "3.11.5"
  }
 },
 "nbformat": 4,
 "nbformat_minor": 5
}
